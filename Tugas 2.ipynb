{
 "cells": [
  {
   "cell_type": "markdown",
   "metadata": {},
   "source": [
    "## Question 1\n",
    "\n",
    "Does this code run without error? If so, what does it produce? If not, explain why."
   ]
  },
  {
   "cell_type": "code",
   "execution_count": null,
   "metadata": {},
   "outputs": [],
   "source": [
    "x = [1, 2, 3]\n",
    "y = 'bootcam'\n",
    "z = x + y"
   ]
  },
  {
   "cell_type": "markdown",
   "metadata": {},
   "source": [
    "__Answer__: This code runs with error because Python cannot concatenate two variables with different types together, x being a list and y being a string. It will produce a type error warning saying that Python can only concatenate list to list."
   ]
  },
  {
   "cell_type": "markdown",
   "metadata": {},
   "source": [
    "## Question 2\n",
    "\n",
    "For the same x and y as the previous question: What function tells us what type they are? What function tells us how many elements they contain?\n",
    "\n",
    "__Answer__: The function that tells us the type of a variable is type(), while that which tells us the length of a variable is len(). In this case, x is a list of 3 items and y is a string with 3 characters."
   ]
  },
  {
   "cell_type": "code",
   "execution_count": 2,
   "metadata": {},
   "outputs": [
    {
     "name": "stdout",
     "output_type": "stream",
     "text": [
      "<class 'list'>\n",
      "3\n",
      "<class 'str'>\n",
      "3\n"
     ]
    }
   ],
   "source": [
    "print(type(x))\n",
    "print(len(x))\n",
    "print(type(y))\n",
    "print(len(x))"
   ]
  },
  {
   "cell_type": "markdown",
   "metadata": {},
   "source": [
    "## Question 3\n",
    "\n",
    "What type is each expression? How can you tell?\n",
    "a. 2\n",
    "b. ’2’\n",
    "c. 2.0\n",
    "d. \"2.0\"\n",
    "e. 2>1\n",
    "f. ’Itamar’ > ’Chase’\n",
    "g. [1, 2]\n",
    "h. (1, 2)\n",
    "i. {1: ’one’, 2: ’two’}\n",
    "\n",
    "__Answer__: To check the type of the expressions above, use the function type():\n",
    "- int is integer\n",
    "- str is string\n",
    "- float is float\n",
    "- bool is boolean\n",
    "- list is list\n",
    "- tuple is tuple\n",
    "- dict is dictonary"
   ]
  },
  {
   "cell_type": "code",
   "execution_count": 3,
   "metadata": {},
   "outputs": [
    {
     "name": "stdout",
     "output_type": "stream",
     "text": [
      "a. <class 'int'>\n",
      "b. <class 'str'>\n",
      "c. <class 'float'>\n",
      "d. <class 'str'>\n",
      "e. <class 'bool'>\n",
      "f. <class 'bool'>\n",
      "g. <class 'list'>\n",
      "h. <class 'tuple'>\n",
      "i. <class 'dict'>\n"
     ]
    }
   ],
   "source": [
    "print('a.',type(2)) #this function will return int, which means 2 is an integer\n",
    "print('b.',type('2')) #this will return str, which is a short for string\n",
    "print('c.',type(2.0)) #this will return float, which is a real number written with a decimal point\n",
    "print('d.',type(\"2.0\"))\n",
    "print('e.',type(2>1))\n",
    "print('f.',type('Itamar'>'Chase'))\n",
    "print('g.',type([1, 2]))\n",
    "print('h.',type((1, 2)))\n",
    "print('i.',type({1: 'one', 2: 'two'}))"
   ]
  },
  {
   "cell_type": "markdown",
   "metadata": {},
   "source": [
    "## Question 4\n",
    "\n",
    "What value does each of these comparisons have? <br>\n",
    "a. 1>=0 <br>\n",
    "b. 1 >= 1 <br>\n",
    "c. 1 > 1 <br>\n",
    "d. 1==1<br>\n",
    "e. 1 == 1.0<br>\n",
    "f. ’Spencer’ == \"Spencer\"<br>\n",
    "g. 2**3 > 3**2<br>\n",
    "h. 1 >= 0 or 1 <= 2<br>\n",
    "i. 1 >= 0 and 1 <= 2<br>\n",
    "\n",
    "__Answer__: The comparisons will return either True or False, depending on whether or not the statement is correct. "
   ]
  },
  {
   "cell_type": "code",
   "execution_count": 4,
   "metadata": {},
   "outputs": [
    {
     "name": "stdout",
     "output_type": "stream",
     "text": [
      "a. True\n",
      "b. True\n",
      "c. False\n",
      "d. True\n",
      "e. True\n",
      "f. True\n",
      "g. False\n",
      "h. True\n",
      "i. True\n"
     ]
    }
   ],
   "source": [
    "print('a.',1>=0)\n",
    "print('b.',1 >= 1)\n",
    "print('c.',1 > 1)\n",
    "print('d.',1==1)\n",
    "print('e.',1 == 1.0)\n",
    "print('f.','Spencer' == \"Spencer\")\n",
    "print('g.',2**3 > 3**2)\n",
    "print('h.',1 >= 0 or 1 <= 2)\n",
    "print('i.',1 >= 0 and 1 <= 2)"
   ]
  },
  {
   "cell_type": "markdown",
   "metadata": {},
   "source": [
    "## Question 5\n",
    "\n",
    "Does this code run without error? If so, what does it produce? If not, how would you fix it?"
   ]
  },
  {
   "cell_type": "code",
   "execution_count": 5,
   "metadata": {},
   "outputs": [
    {
     "name": "stdout",
     "output_type": "stream",
     "text": [
      "Yes, 2 is still greater than 1\n"
     ]
    }
   ],
   "source": [
    "if 2>1: #add colon\n",
    "    print('Yes, 2 is still greater than 1')"
   ]
  },
  {
   "cell_type": "markdown",
   "metadata": {},
   "source": [
    "__Answer__: For it to run perfectly, the code needs to have a colon after the if condition (the first line)"
   ]
  },
  {
   "cell_type": "markdown",
   "metadata": {},
   "source": [
    "## Question 6\n",
    "\n",
    "What is the result of running this code? Why? What happens if we replace True with False in the first line? What happens if we insert the word not after if in the first line?"
   ]
  },
  {
   "cell_type": "code",
   "execution_count": 6,
   "metadata": {},
   "outputs": [
    {
     "name": "stdout",
     "output_type": "stream",
     "text": [
      "on the one hand\n"
     ]
    }
   ],
   "source": [
    "if True:\n",
    "    print('on the one hand')\n",
    "else:\n",
    "    print('but on the other hand')"
   ]
  },
  {
   "cell_type": "markdown",
   "metadata": {},
   "source": [
    "__Answer__: The code prints 'on the other hand' because the True condition in the if function guarantees that whatever is written underneath it will have to be executed. The if function here makes sure that when a condition is satisfied, Python will print 'on the other hand'; otherwise, it will print 'but on the other hand'. When you put True as the if condition, you automatically assume and tell Python that whatever condition you have in mind is satisfied. Conversely, if you replace True with False in the first line, Python will return 'but on the other hand' because you simply tell Python that your condition is not satisfied. If you put Not as your condition, Python will return a syntax error warning. The expression Not does not give Python a meaningful command."
   ]
  },
  {
   "cell_type": "markdown",
   "metadata": {},
   "source": [
    "## Question 7\n",
    "\n",
    "What is the result of running this code?"
   ]
  },
  {
   "cell_type": "code",
   "execution_count": 7,
   "metadata": {},
   "outputs": [
    {
     "name": "stdout",
     "output_type": "stream",
     "text": [
      "Chase\n"
     ]
    }
   ],
   "source": [
    "cond = True\n",
    "if cond:\n",
    "    x = \"Chase\"\n",
    "else:\n",
    "    x = \"Dave\"\n",
    "print(x)"
   ]
  },
  {
   "cell_type": "markdown",
   "metadata": {},
   "source": [
    "__Answer__: As in Question 6, here you simply tell Python that your condition is True or satisfied. As such, Python will return Chase. If you change True with false in the first line, you will get Dave as your result."
   ]
  },
  {
   "cell_type": "markdown",
   "metadata": {},
   "source": [
    "## Question 8\n",
    "\n",
    "Suppose we have two lists, x = [1, 2, 3, 4] and y = [’x’, ’y’, ’z’]. Adapt the code below to determine which has more elements:"
   ]
  },
  {
   "cell_type": "code",
   "execution_count": 8,
   "metadata": {},
   "outputs": [
    {
     "name": "stdout",
     "output_type": "stream",
     "text": [
      "x has more elements than y\n"
     ]
    }
   ],
   "source": [
    "x = len([1, 2, 3, 4])\n",
    "y = len(['x', 'y', 'z'])\n",
    "if x>y:\n",
    "    print('x has more elements than y')\n",
    "else:\n",
    "    print(\"y has at least as many elements as x\")"
   ]
  },
  {
   "cell_type": "markdown",
   "metadata": {},
   "source": [
    "## Question 9\n",
    "\n",
    "Explain in words what slicing does\n",
    "\n",
    "__Answer__: We use slicing to extract the elements of a list, a string, a tuple, or a range by specifying the item number in square brackets. It represents the indices specified by range(start, stop, step)"
   ]
  },
  {
   "cell_type": "markdown",
   "metadata": {},
   "source": [
    "## Question 10\n",
    "\n",
    "How would you extract (“slice”) the first element (the integer 1) from the list x below? The last element? All but the last element?\n",
    "- x = [1, 2, 3, 4, 5]"
   ]
  },
  {
   "cell_type": "code",
   "execution_count": 9,
   "metadata": {},
   "outputs": [
    {
     "name": "stdout",
     "output_type": "stream",
     "text": [
      "1\n",
      "5\n",
      "[1, 2, 3, 4]\n"
     ]
    }
   ],
   "source": [
    "x = [1, 2, 3, 4, 5]\n",
    "\n",
    "#first element\n",
    "print(x[0])\n",
    "\n",
    "#last element\n",
    "print(x[-1])\n",
    "\n",
    "#all but last element\n",
    "print(x[:-1])"
   ]
  },
  {
   "cell_type": "markdown",
   "metadata": {},
   "source": [
    "## Question 11\n",
    "\n",
    "Use slicing to extract each word from sentence = 'This is a sentence; please slice it.'"
   ]
  },
  {
   "cell_type": "code",
   "execution_count": 10,
   "metadata": {},
   "outputs": [
    {
     "name": "stdout",
     "output_type": "stream",
     "text": [
      "This\n",
      "is\n",
      "a\n",
      "sentence\n",
      "please\n",
      "slice\n",
      "it\n"
     ]
    }
   ],
   "source": [
    "x = 'This is a sentence; please slice it.'\n",
    "\n",
    "print(x[:4])\n",
    "print(x[5:7])\n",
    "print(x[8])\n",
    "print(x[10:18])\n",
    "print(x[20:26])\n",
    "print(x[27:32])\n",
    "print(x[33:35])"
   ]
  },
  {
   "cell_type": "markdown",
   "metadata": {},
   "source": [
    "## Question 12\n",
    "\n",
    "Consider the list:<br>\n",
    "x = [1, 2, \"a\", ’b’, \"fast\", ’slow’, 3, \"Raghu\", ’Liuren’, 10]<br>\n",
    "<br>\n",
    "a. How would you slice out the first item? The last item?<br>\n",
    "b. How would you slice out the items from ’b’ to 3 inclusive?"
   ]
  },
  {
   "cell_type": "code",
   "execution_count": 11,
   "metadata": {},
   "outputs": [
    {
     "name": "stdout",
     "output_type": "stream",
     "text": [
      "1\n",
      "10\n",
      "['b', 'fast', 'slow', 3]\n"
     ]
    }
   ],
   "source": [
    "x = [1, 2, \"a\", 'b', \"fast\", 'slow', 3, \"Raghu\", 'Liuren', 10]\n",
    "\n",
    "#first item\n",
    "print(x[0])\n",
    "\n",
    "#last item\n",
    "print(x[-1])\n",
    "\n",
    "#from 'b' to 3 inclusive\n",
    "print(x[3:7])"
   ]
  },
  {
   "cell_type": "markdown",
   "metadata": {},
   "source": [
    "## Question 13\n",
    "\n",
    "Using the same list x, write a loop that prints every element on a new line"
   ]
  },
  {
   "cell_type": "code",
   "execution_count": 12,
   "metadata": {},
   "outputs": [
    {
     "name": "stdout",
     "output_type": "stream",
     "text": [
      "1\n",
      "2\n",
      "a\n",
      "b\n",
      "fast\n",
      "slow\n",
      "3\n",
      "Raghu\n",
      "Liuren\n",
      "10\n"
     ]
    }
   ],
   "source": [
    "x = [1, 2, \"a\", 'b', \"fast\", 'slow', 3, \"Raghu\", 'Liuren', 10]\n",
    "\n",
    "for item in x:\n",
    "    print(item)"
   ]
  },
  {
   "cell_type": "markdown",
   "metadata": {},
   "source": [
    "## Question 14\n",
    "\n",
    "Using the same list x, write a loop that prints every element of type str"
   ]
  },
  {
   "cell_type": "code",
   "execution_count": 20,
   "metadata": {},
   "outputs": [
    {
     "data": {
      "text/plain": [
       "['a', 'b', 'fast', 'slow', 'Raghu', 'Liuren']"
      ]
     },
     "execution_count": 20,
     "metadata": {},
     "output_type": "execute_result"
    }
   ],
   "source": [
    "x = [1, 2, \"a\", 'b', \"fast\", 'slow', 3, \"Raghu\", 'Liuren', 10]\n",
    "x_string = [item for item in x if type(item) == str]\n",
    "\n",
    "x_string"
   ]
  },
  {
   "cell_type": "markdown",
   "metadata": {},
   "source": [
    "## Question 15\n",
    "\n",
    "Use the help function in Jupyter to find out what the range function does. How would you describe range(3,12,2)? Verify by converting to a list with list(range(3,12,2))."
   ]
  },
  {
   "cell_type": "code",
   "execution_count": null,
   "metadata": {},
   "outputs": [],
   "source": [
    "range?"
   ]
  },
  {
   "cell_type": "markdown",
   "metadata": {},
   "source": [
    "__Answer__: range(3,12,2) would enumerate integers starting from 3 to 11 with an increment of 2, that is, it would show 3,5,7,9,11"
   ]
  },
  {
   "cell_type": "code",
   "execution_count": 13,
   "metadata": {},
   "outputs": [
    {
     "data": {
      "text/plain": [
       "[3, 5, 7, 9, 11]"
      ]
     },
     "execution_count": 13,
     "metadata": {},
     "output_type": "execute_result"
    }
   ],
   "source": [
    "list(range(3,12,2))"
   ]
  },
  {
   "cell_type": "markdown",
   "metadata": {},
   "source": [
    "## Question 16\n",
    "\n",
    "Write a loop that sums the integers from zero to thirty that are multiples of three: 3, 6, etc."
   ]
  },
  {
   "cell_type": "code",
   "execution_count": 14,
   "metadata": {},
   "outputs": [
    {
     "data": {
      "text/plain": [
       "165"
      ]
     },
     "execution_count": 14,
     "metadata": {},
     "output_type": "execute_result"
    }
   ],
   "source": [
    "x = range(0,31,3)\n",
    "sum = 0\n",
    "\n",
    "for i in x:\n",
    "    sum = sum + i\n",
    "\n",
    "sum"
   ]
  },
  {
   "cell_type": "markdown",
   "metadata": {},
   "source": [
    "## Question 17\n",
    "\n",
    "Define a function pocket_change() that takes four integers as inputs (numbers of pennies, nickels, dimes, and quarters in your pocket) and returns a floating point number (their dollar value). Run your program with the input (1, 2, 3, 4). Bonus (optional): Report the value with a dollar sign."
   ]
  },
  {
   "cell_type": "code",
   "execution_count": 15,
   "metadata": {},
   "outputs": [
    {
     "name": "stdout",
     "output_type": "stream",
     "text": [
      "$ 1.41\n"
     ]
    }
   ],
   "source": [
    "def pocket_change(P, N, D, Q):\n",
    "    dollar = (P/100) + (N/20) + (D/10) + (Q/4)\n",
    "    print('$',dollar)\n",
    "    \n",
    "pocket_change(1,2,3,4)"
   ]
  },
  {
   "cell_type": "markdown",
   "metadata": {},
   "source": [
    "## Question 18\n",
    "\n",
    "Write a function notsix() that takes a list of integers and returns a (shorter) list of only those that do not begin with a 6. Test it on the list [1234, 6783, 6, 4321,\n",
    "9876]. Hints: You can create a blank list with x = []. You can append item to it with x.append(item)."
   ]
  },
  {
   "cell_type": "code",
   "execution_count": 16,
   "metadata": {},
   "outputs": [
    {
     "name": "stdout",
     "output_type": "stream",
     "text": [
      "[1234, 4321, 9876]\n"
     ]
    }
   ],
   "source": [
    "oldx = []\n",
    "def notsix(oldx):\n",
    "    newx = [x for x in oldx if str(x)[0] != '6']\n",
    "    print(newx)\n",
    "\n",
    "oldx.append(1234)\n",
    "oldx.append(6789)\n",
    "oldx.append(6)\n",
    "oldx.append(4321)\n",
    "oldx.append(9876)\n",
    "\n",
    "notsix(oldx)"
   ]
  },
  {
   "cell_type": "markdown",
   "metadata": {},
   "source": [
    "## Question 19\n",
    "\n",
    "Explain what this code does:"
   ]
  },
  {
   "cell_type": "code",
   "execution_count": null,
   "metadata": {},
   "outputs": [],
   "source": [
    "old_list = [1234, 6783, 6, 4321, 9876]\n",
    "new_list = [x for x in old_list if str(x)[0] != \"6\"]"
   ]
  },
  {
   "cell_type": "markdown",
   "metadata": {},
   "source": [
    "__Answer__: The code produces a new list containing items from the old list that do not begin with 6"
   ]
  },
  {
   "cell_type": "markdown",
   "metadata": {},
   "source": [
    "## Question 20\n",
    "\n",
    "Consider the Python object<br>\n",
    "z = {1: ’one’, 2: ’two’, 3: ’three’}<br>\n",
    "<br>\n",
    "a. What kind of object is z? What is its length?<br>\n",
    "b. Which components are keys? Which are values?<br>\n",
    "c. How would I get the value associated with the key 2?<br>\n",
    "d. Use Jupyter’s help facilities to figure out what z.keys() does. Ditto z.values(). Try them to verify.<br>\n",
    "e. What does list(z.keys()) do?<br>\n",
    "f. What does list(z.values()) do?<br>\n",
    "g. What does list(z) do?"
   ]
  },
  {
   "cell_type": "code",
   "execution_count": 17,
   "metadata": {},
   "outputs": [
    {
     "name": "stdout",
     "output_type": "stream",
     "text": [
      "<class 'dict'>\n",
      "3\n",
      "dict_keys([1, 2, 3])\n",
      "dict_values(['one', 'two', 'three'])\n",
      "[1, 2, 3]\n",
      "['one', 'two', 'three']\n",
      "[1, 2, 3]\n"
     ]
    }
   ],
   "source": [
    "z = {1: 'one', 2: 'two', 3: 'three'}\n",
    "\n",
    "#a\n",
    "print(type(z))\n",
    "print(len(z))\n",
    "\n",
    "#b\n",
    "print(z.keys())\n",
    "print(z.values())\n",
    "\n",
    "#c\n",
    "z.keys?\n",
    "z.values?\n",
    "\n",
    "#d\n",
    "print(list(z.keys()))\n",
    "\n",
    "#e\n",
    "print(list(z.values()))\n",
    "\n",
    "#f\n",
    "print(list(z))"
   ]
  },
  {
   "cell_type": "code",
   "execution_count": null,
   "metadata": {},
   "outputs": [],
   "source": []
  }
 ],
 "metadata": {
  "kernelspec": {
   "display_name": "Python 3",
   "language": "python",
   "name": "python3"
  },
  "language_info": {
   "codemirror_mode": {
    "name": "ipython",
    "version": 3
   },
   "file_extension": ".py",
   "mimetype": "text/x-python",
   "name": "python",
   "nbconvert_exporter": "python",
   "pygments_lexer": "ipython3",
   "version": "3.6.5"
  }
 },
 "nbformat": 4,
 "nbformat_minor": 2
}
